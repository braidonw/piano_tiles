{
 "cells": [
  {
   "cell_type": "code",
   "execution_count": 2,
   "metadata": {},
   "outputs": [],
   "source": [
    "%reload_ext autoreload\n",
    "%autoreload 2"
   ]
  },
  {
   "cell_type": "code",
   "execution_count": 3,
   "metadata": {},
   "outputs": [],
   "source": [
    "import numpy as np\n",
    "from PIL import ImageGrab\n",
    "import cv2\n",
    "import time\n",
    "from directKeys import click, queryMousePosition"
   ]
  },
  {
   "cell_type": "code",
   "execution_count": 41,
   "metadata": {},
   "outputs": [],
   "source": [
    "col1_coords = (2720,44,2723,920)\n",
    "col2_coords = (2860,44,2863,920)\n",
    "col3_coords = (3000,44,3003,920)\n",
    "col4_coords = (3140,44,3143,920)\n",
    "columns_to_check = [col1_coords, \n",
    "        col2_coords, \n",
    "        col3_coords, \n",
    "        col4_coords]"
   ]
  },
  {
   "cell_type": "code",
   "execution_count": 42,
   "metadata": {},
   "outputs": [],
   "source": [
    "def find_a_fucking_tile(area):\n",
    "    for y in (range(len(area))):\n",
    "        for x in range(len(area[0])):\n",
    "            if area[y][x] < 50:\n",
    "                actual_x = x + area[0]\n",
    "                actual_y = y + area[1]\n",
    "                print('found the following coords: {} & {}'\n",
    "                        .format(actual_x, actual_y))\n",
    "                return actual_x, actual_y\n"
   ]
  },
  {
   "cell_type": "code",
   "execution_count": 50,
   "metadata": {},
   "outputs": [],
   "source": [
    "def look_at_the_game(col_coords):\n",
    "    screen = np.array(ImageGrab.grab(bbox=col_coords))\n",
    "    screen = cv2.cvtColor(screen, cv2.COLOR_BGR2GRAY)\n",
    "    return screen\n"
   ]
  },
  {
   "cell_type": "code",
   "execution_count": 51,
   "metadata": {},
   "outputs": [],
   "source": [
    "def play_the_game(columns):\n",
    "    for col in columns:\n",
    "        area = look_at_the_game(col_coords=col)\n",
    "        x,y = find_a_fucking_tile(area=area)\n",
    "        click(x,y)"
   ]
  },
  {
   "cell_type": "code",
   "execution_count": 52,
   "metadata": {},
   "outputs": [],
   "source": [
    "area = look_at_the_game(col1_coords)"
   ]
  },
  {
   "cell_type": "code",
   "execution_count": 53,
   "metadata": {},
   "outputs": [
    {
     "name": "stdout",
     "output_type": "stream",
     "text": [
      "found the following coords: [45 45 45] & [45 45 45]\n"
     ]
    },
    {
     "data": {
      "text/plain": [
       "(array([45, 45, 45], dtype=uint8), array([45, 45, 45], dtype=uint8))"
      ]
     },
     "execution_count": 53,
     "metadata": {},
     "output_type": "execute_result"
    }
   ],
   "source": [
    "find_a_fucking_tile(area)"
   ]
  },
  {
   "cell_type": "code",
   "execution_count": 48,
   "metadata": {},
   "outputs": [
    {
     "data": {
      "text/plain": [
       "array([[ 45,  45,  45],\n",
       "       [ 45,  45,  45],\n",
       "       [ 45,  45,  45],\n",
       "       ...,\n",
       "       [179, 179, 179],\n",
       "       [179, 179, 179],\n",
       "       [179, 179, 179]], dtype=uint8)"
      ]
     },
     "execution_count": 48,
     "metadata": {},
     "output_type": "execute_result"
    }
   ],
   "source": [
    "area"
   ]
  },
  {
   "cell_type": "code",
   "execution_count": 54,
   "metadata": {},
   "outputs": [
    {
     "data": {
      "text/plain": [
       "range(0, 876)"
      ]
     },
     "execution_count": 54,
     "metadata": {},
     "output_type": "execute_result"
    }
   ],
   "source": [
    "range(len(area))"
   ]
  },
  {
   "cell_type": "code",
   "execution_count": 56,
   "metadata": {},
   "outputs": [
    {
     "data": {
      "text/plain": [
       "range(0, 3)"
      ]
     },
     "execution_count": 56,
     "metadata": {},
     "output_type": "execute_result"
    }
   ],
   "source": [
    "range(len(area[0]))"
   ]
  },
  {
   "cell_type": "code",
   "execution_count": 62,
   "metadata": {},
   "outputs": [
    {
     "data": {
      "text/plain": [
       "3"
      ]
     },
     "execution_count": 62,
     "metadata": {},
     "output_type": "execute_result"
    }
   ],
   "source": [
    "len(area[0])"
   ]
  },
  {
   "cell_type": "code",
   "execution_count": 65,
   "metadata": {},
   "outputs": [
    {
     "data": {
      "text/plain": [
       "44"
      ]
     },
     "execution_count": 65,
     "metadata": {},
     "output_type": "execute_result"
    }
   ],
   "source": [
    "col1_coords[1]"
   ]
  },
  {
   "cell_type": "code",
   "execution_count": null,
   "metadata": {},
   "outputs": [],
   "source": []
  }
 ],
 "metadata": {
  "kernelspec": {
   "display_name": "Python 3",
   "language": "python",
   "name": "python3"
  },
  "language_info": {
   "codemirror_mode": {
    "name": "ipython",
    "version": 3
   },
   "file_extension": ".py",
   "mimetype": "text/x-python",
   "name": "python",
   "nbconvert_exporter": "python",
   "pygments_lexer": "ipython3",
   "version": "3.7.2"
  }
 },
 "nbformat": 4,
 "nbformat_minor": 2
}
