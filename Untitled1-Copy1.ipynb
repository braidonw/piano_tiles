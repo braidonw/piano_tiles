{
 "cells": [
  {
   "cell_type": "code",
   "execution_count": 2,
   "metadata": {},
   "outputs": [],
   "source": [
    "%reload_ext autoreload\n",
    "%autoreload 2"
   ]
  },
  {
   "cell_type": "code",
   "execution_count": 3,
   "metadata": {},
   "outputs": [],
   "source": [
    "import numpy as np\n",
    "from PIL import ImageGrab\n",
    "import cv2\n",
    "import time\n",
    "from directKeys import click, queryMousePosition"
   ]
  },
  {
   "cell_type": "code",
   "execution_count": 4,
   "metadata": {},
   "outputs": [],
   "source": [
    "game_coords = (2700,35,3240,705)"
   ]
  },
  {
   "cell_type": "code",
   "execution_count": 5,
   "metadata": {},
   "outputs": [],
   "source": [
    "def screen_record(): \n",
    "    last_time = time.time()\n",
    "    # Game window in the top right of the screen\n",
    "    screen =  np.array(ImageGrab.grab(bbox=game_coords))\n",
    "    print('loop took {} seconds'.format(time.time()-last_time))\n",
    "    last_time = time.time()\n",
    "    cv2.imshow('window',cv2.cvtColor(screen, cv2.COLOR_BGR2GRAY))"
   ]
  },
  {
   "cell_type": "code",
   "execution_count": 6,
   "metadata": {},
   "outputs": [],
   "source": [
    "screen =  np.array(ImageGrab.grab(bbox=game_coords))\n",
    "screen = cv2.cvtColor(screen, cv2.COLOR_BGR2GRAY)"
   ]
  },
  {
   "cell_type": "code",
   "execution_count": 8,
   "metadata": {},
   "outputs": [],
   "source": [
    "def regain_control_of_my_fucking_computer(game_coords):\n",
    "    mouse_pos = queryMousePosition()\n",
    "    return mouse_pos.x < game_coords[0]"
   ]
  },
  {
   "cell_type": "code",
   "execution_count": 9,
   "metadata": {},
   "outputs": [
    {
     "data": {
      "text/plain": [
       "True"
      ]
     },
     "execution_count": 9,
     "metadata": {},
     "output_type": "execute_result"
    }
   ],
   "source": [
    "regain_control_of_my_fucking_computer(game_coords)"
   ]
  },
  {
   "cell_type": "code",
   "execution_count": 10,
   "metadata": {},
   "outputs": [],
   "source": [
    "col1_coords = (2720,44,2722,695)\n",
    "col2_coords = (2860,44,2862,695)\n",
    "col3_coords = (3000,44,3002,695)\n",
    "col4_coords = (3140,44,3142,695)"
   ]
  },
  {
   "cell_type": "code",
   "execution_count": 11,
   "metadata": {},
   "outputs": [],
   "source": [
    "columns_to_check = [col1_coords, col2_coords, col3_coords, col4_coords]"
   ]
  },
  {
   "cell_type": "code",
   "execution_count": 13,
   "metadata": {},
   "outputs": [
    {
     "name": "stdout",
     "output_type": "stream",
     "text": [
      "2720\n",
      "2860\n",
      "3000\n",
      "3140\n"
     ]
    }
   ],
   "source": [
    "for col in columns_to_check:\n",
    "    print(col[0])"
   ]
  },
  {
   "cell_type": "code",
   "execution_count": 15,
   "metadata": {},
   "outputs": [],
   "source": [
    "def find_a_fucking_tile(game_screen):\n",
    "    for y in range(len(game_screen)):\n",
    "        for x in range(len(game_screen[0])):\n",
    "            if game_screen[y][x] < 10:\n",
    "                actual_x = x + game_coords[0]\n",
    "                actual_y = y + game_coords[1]\n",
    "                return actual_x, actual_y"
   ]
  },
  {
   "cell_type": "code",
   "execution_count": 25,
   "metadata": {},
   "outputs": [],
   "source": [
    "def look_at_the_game(col_coords=game_coords):\n",
    "    screen =  np.array(ImageGrab.grab(bbox=game_coords))\n",
    "    screen = cv2.cvtColor(screen, cv2.COLOR_BGR2GRAY)\n",
    "    return screen"
   ]
  },
  {
   "cell_type": "code",
   "execution_count": 30,
   "metadata": {},
   "outputs": [],
   "source": [
    "def play_the_game(col_coords):\n",
    "    screen = look_at_the_game(col_coords=game_coords)\n",
    "    try:\n",
    "        x,y = find_a_fucking_tile(screen)\n",
    "        click(x,y)\n",
    "    except:\n",
    "        pass"
   ]
  },
  {
   "cell_type": "code",
   "execution_count": 32,
   "metadata": {},
   "outputs": [],
   "source": [
    "while queryMousePosition().x > game_coords[0]:\n",
    "    for col in columns_to_check:\n",
    "        play_the_game(col)"
   ]
  },
  {
   "cell_type": "code",
   "execution_count": 33,
   "metadata": {},
   "outputs": [],
   "source": []
  },
  {
   "cell_type": "code",
   "execution_count": 40,
   "metadata": {},
   "outputs": [],
   "source": [
    "area = look_at_the_game(col2_coords)\n",
    "x, y = find_a_fucking_tile(area)\n",
    "click(x, y)"
   ]
  },
  {
   "cell_type": "code",
   "execution_count": 37,
   "metadata": {},
   "outputs": [],
   "source": []
  },
  {
   "cell_type": "code",
   "execution_count": null,
   "metadata": {},
   "outputs": [],
   "source": []
  }
 ],
 "metadata": {
  "kernelspec": {
   "display_name": "Python 3",
   "language": "python",
   "name": "python3"
  },
  "language_info": {
   "codemirror_mode": {
    "name": "ipython",
    "version": 3
   },
   "file_extension": ".py",
   "mimetype": "text/x-python",
   "name": "python",
   "nbconvert_exporter": "python",
   "pygments_lexer": "ipython3",
   "version": "3.7.2"
  }
 },
 "nbformat": 4,
 "nbformat_minor": 2
}
